{
  "nbformat": 4,
  "nbformat_minor": 0,
  "metadata": {
    "colab": {
      "provenance": []
    },
    "kernelspec": {
      "name": "python3",
      "display_name": "Python 3"
    },
    "language_info": {
      "name": "python"
    }
  },
  "cells": [
    {
      "cell_type": "code",
      "source": [
        "from cryptography.hazmat.primitives.asymmetric import rsa, padding\n",
        "from cryptography.hazmat.primitives import hashes\n",
        "from datetime import datetime, timedelta\n",
        "import base64\n",
        "\n",
        "# Generate RSA keys\n",
        "private_key = rsa.generate_private_key(public_exponent=65537, key_size=2048)\n",
        "public_key = private_key.public_key()\n",
        "\n",
        "# To track processed timestamps\n",
        "processed_timestamps = set()\n",
        "\n",
        "# Alice's actions\n",
        "def sign_message(message):\n",
        "    timestamp = datetime.utcnow().isoformat()\n",
        "    message_with_timestamp = f\"{message}|{timestamp}\"\n",
        "    signature = private_key.sign(\n",
        "        message_with_timestamp.encode(),\n",
        "        padding.PKCS1v15(),\n",
        "        hashes.SHA256()\n",
        "    )\n",
        "    return message_with_timestamp, base64.b64encode(signature).decode()\n",
        "\n",
        "# Bob's actions\n",
        "def verify_message(message_with_timestamp, signature_b64):\n",
        "    try:\n",
        "        # Extract message and timestamp\n",
        "        message, timestamp = message_with_timestamp.rsplit('|', 1)\n",
        "        timestamp = datetime.fromisoformat(timestamp)\n",
        "\n",
        "        # Check if the timestamp is within the acceptable window\n",
        "        current_time = datetime.utcnow()\n",
        "        if current_time - timestamp > timedelta(minutes=5):\n",
        "            return False, \"Message timestamp is outdated\"\n",
        "\n",
        "        # Check if the timestamp was already processed\n",
        "        if timestamp in processed_timestamps:\n",
        "            return False, \"Replay detected: Timestamp already used\"\n",
        "\n",
        "        # Verify the signature\n",
        "        signature = base64.b64decode(signature_b64)\n",
        "        public_key.verify(\n",
        "            signature,\n",
        "            message_with_timestamp.encode(),\n",
        "            padding.PKCS1v15(),\n",
        "            hashes.SHA256()\n",
        "        )\n",
        "\n",
        "        # Mark the timestamp as processed\n",
        "        processed_timestamps.add(timestamp)\n",
        "        return True, \"Message is valid\"\n",
        "    except Exception as e:\n",
        "        return False, str(e)\n",
        "\n",
        "# Demonstration\n",
        "message = \"Transfer $1000 to Oscar\"\n",
        "\n",
        "# Alice signs the message\n",
        "signed_message, signature = sign_message(message)\n",
        "print(\"Signed Message:\", signed_message)\n",
        "print(\"Signature:\", signature)\n",
        "\n",
        "# Bob verifies the first message\n",
        "is_valid, result = verify_message(signed_message, signature)\n",
        "print(\"Verification Result (First Attempt):\", result)\n",
        "\n",
        "# Bob tries to verify the same message again (replay attempt)\n",
        "is_valid, result = verify_message(signed_message, signature)\n",
        "print(\"Verification Result (Replay Attempt):\", result)"
      ],
      "metadata": {
        "colab": {
          "base_uri": "https://localhost:8080/"
        },
        "id": "6iIGxl4N9PeX",
        "outputId": "da880ca7-2598-4ee7-ab83-28e914af6ff2"
      },
      "execution_count": 2,
      "outputs": [
        {
          "output_type": "stream",
          "name": "stdout",
          "text": [
            "Signed Message: Transfer $1000 to Oscar|2024-11-20T19:03:32.029989\n",
            "Signature: M7ARvpCjPFTjTIyywV10B+WRAcqPw8gKQPjeAtKduHN5EFPpdReoOVdL8P86uOgnXrzoJ7g2iOHicb3YPOQsKyTYU1FxeLZONZimU/KIx1BrE4J0U+LHiLanXn8eGhCx3j9LVXF41zUhlIxBS07m/ZObDwsKUceJlBxZj1+cfQ8TkgttwEWdsM2Tc3Jb0EprIyJ4wlrZOav59pzg/w0+IgRAhaQokk+oUESLdlcPrQDzRzxmzGJglSq4cSpU06CEuEaa2Lt11yAGq7XAQUtQHvvbSVqA0GNYHz7lKmKXTzgrchgCK6GbxaqKKdbKhUL0fUsPdaMpGSmpjdRKAw0G2Q==\n",
            "Verification Result (First Attempt): Message is valid\n",
            "Verification Result (Replay Attempt): Replay detected: Timestamp already used\n"
          ]
        }
      ]
    },
    {
      "cell_type": "code",
      "source": [
        "import hmac\n",
        "import hashlib\n",
        "import os\n",
        "\n",
        "# Shared secret key\n",
        "shared_key = b'supersecretkey'\n",
        "\n",
        "# To track used nonces\n",
        "used_nonces = set()\n",
        "\n",
        "# Alice's actions\n",
        "def generate_nonce():\n",
        "    return os.urandom(16).hex()\n",
        "\n",
        "def create_mac(message, nonce):\n",
        "    message_with_nonce = f\"{message}|{nonce}\".encode()\n",
        "    mac = hmac.new(shared_key, message_with_nonce, hashlib.sha256).hexdigest()\n",
        "    return message_with_nonce.decode(), mac\n",
        "\n",
        "# Bob's actions\n",
        "def verify_mac(message_with_nonce, mac):\n",
        "    try:\n",
        "        # Extract message and nonce\n",
        "        message, nonce = message_with_nonce.rsplit('|', 1)\n",
        "\n",
        "        # Check if the nonce has already been used\n",
        "        if nonce in used_nonces:\n",
        "            return False, \"Replay detected: Nonce already used\"\n",
        "\n",
        "        # Verify MAC\n",
        "        computed_mac = hmac.new(shared_key, message_with_nonce.encode(), hashlib.sha256).hexdigest()\n",
        "        if computed_mac != mac:\n",
        "            return False, \"Invalid MAC\"\n",
        "\n",
        "        # Mark the nonce as used\n",
        "        used_nonces.add(nonce)\n",
        "        return True, \"Message is valid\"\n",
        "    except Exception as e:\n",
        "        return False, str(e)\n",
        "\n",
        "# Demonstration\n",
        "nonce = generate_nonce()\n",
        "message = \"Transfer $1000 to Oscar\"\n",
        "\n",
        "# Alice creates the MAC\n",
        "message_with_nonce, mac = create_mac(message, nonce)\n",
        "print(\"Message with Nonce:\", message_with_nonce)\n",
        "print(\"MAC:\", mac)\n",
        "\n",
        "# Bob verifies the first message\n",
        "is_valid, result = verify_mac(message_with_nonce, mac)\n",
        "print(\"Verification Result (First Attempt):\", result)\n",
        "\n",
        "# Bob tries to verify the same message again (replay attempt)\n",
        "is_valid, result = verify_mac(message_with_nonce, mac)\n",
        "print(\"Verification Result (Replay Attempt):\", result)"
      ],
      "metadata": {
        "colab": {
          "base_uri": "https://localhost:8080/"
        },
        "id": "JYc_uh54K1p1",
        "outputId": "34f958ce-9edc-43af-d365-64df77acfd9b"
      },
      "execution_count": 3,
      "outputs": [
        {
          "output_type": "stream",
          "name": "stdout",
          "text": [
            "Message with Nonce: Transfer $1000 to Oscar|287914b1c532323f256144f377860e08\n",
            "MAC: a2057195aa8c42b31e938acfac021f0e72b93ea5969e491637b3691012eac8a4\n",
            "Verification Result (First Attempt): Message is valid\n",
            "Verification Result (Replay Attempt): Replay detected: Nonce already used\n"
          ]
        }
      ]
    }
  ]
}